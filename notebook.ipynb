{
 "cells": [
  {
   "cell_type": "markdown",
   "id": "24923f85-a82b-476b-aa3f-8485ed60ef3c",
   "metadata": {},
   "source": [
    "### Importing The Dataset"
   ]
  },
  {
   "cell_type": "code",
   "execution_count": 1,
   "id": "e2edad3c-8286-4983-b5b7-35d94fd78023",
   "metadata": {
    "executionCancelledAt": null,
    "executionTime": 104,
    "lastExecutedAt": 1686091582324,
    "lastScheduledRunId": null,
    "lastSuccessfullyExecutedCode": "# importing packages\nimport pandas as pd\nimport numpy as np\nfrom datetime import datetime\n\n# Loading the csv file\nbank_marketing = pd.read_csv(\"./bank_marketing.csv\")\nbank_marketing.head(1)"
   },
   "outputs": [
    {
     "data": {
      "text/html": [
       "<div>\n",
       "<style scoped>\n",
       "    .dataframe tbody tr th:only-of-type {\n",
       "        vertical-align: middle;\n",
       "    }\n",
       "\n",
       "    .dataframe tbody tr th {\n",
       "        vertical-align: top;\n",
       "    }\n",
       "\n",
       "    .dataframe thead th {\n",
       "        text-align: right;\n",
       "    }\n",
       "</style>\n",
       "<table border=\"1\" class=\"dataframe\">\n",
       "  <thead>\n",
       "    <tr style=\"text-align: right;\">\n",
       "      <th></th>\n",
       "      <th>client_id</th>\n",
       "      <th>age</th>\n",
       "      <th>job</th>\n",
       "      <th>marital</th>\n",
       "      <th>education</th>\n",
       "      <th>credit_default</th>\n",
       "      <th>housing</th>\n",
       "      <th>loan</th>\n",
       "      <th>contact</th>\n",
       "      <th>month</th>\n",
       "      <th>...</th>\n",
       "      <th>campaign</th>\n",
       "      <th>pdays</th>\n",
       "      <th>previous</th>\n",
       "      <th>poutcome</th>\n",
       "      <th>emp_var_rate</th>\n",
       "      <th>cons_price_idx</th>\n",
       "      <th>cons_conf_idx</th>\n",
       "      <th>euribor3m</th>\n",
       "      <th>nr_employed</th>\n",
       "      <th>y</th>\n",
       "    </tr>\n",
       "  </thead>\n",
       "  <tbody>\n",
       "    <tr>\n",
       "      <th>0</th>\n",
       "      <td>0</td>\n",
       "      <td>56</td>\n",
       "      <td>housemaid</td>\n",
       "      <td>married</td>\n",
       "      <td>basic.4y</td>\n",
       "      <td>no</td>\n",
       "      <td>no</td>\n",
       "      <td>no</td>\n",
       "      <td>telephone</td>\n",
       "      <td>may</td>\n",
       "      <td>...</td>\n",
       "      <td>1</td>\n",
       "      <td>999</td>\n",
       "      <td>0</td>\n",
       "      <td>nonexistent</td>\n",
       "      <td>1.1</td>\n",
       "      <td>93.994</td>\n",
       "      <td>-36.4</td>\n",
       "      <td>4.857</td>\n",
       "      <td>5191.0</td>\n",
       "      <td>no</td>\n",
       "    </tr>\n",
       "  </tbody>\n",
       "</table>\n",
       "<p>1 rows × 22 columns</p>\n",
       "</div>"
      ],
      "text/plain": [
       "   client_id  age        job  marital education credit_default housing loan  \\\n",
       "0          0   56  housemaid  married  basic.4y             no      no   no   \n",
       "\n",
       "     contact month  ...  campaign  pdays  previous     poutcome  emp_var_rate  \\\n",
       "0  telephone   may  ...         1    999         0  nonexistent           1.1   \n",
       "\n",
       "  cons_price_idx  cons_conf_idx  euribor3m  nr_employed   y  \n",
       "0         93.994          -36.4      4.857       5191.0  no  \n",
       "\n",
       "[1 rows x 22 columns]"
      ]
     },
     "execution_count": 1,
     "metadata": {},
     "output_type": "execute_result"
    }
   ],
   "source": [
    "# importing packages\n",
    "import pandas as pd\n",
    "import numpy as np\n",
    "from datetime import datetime\n",
    "\n",
    "# Loading the csv file\n",
    "bank_marketing = pd.read_csv(\"./Data/bank_marketing.csv\")\n",
    "bank_marketing.head(1)"
   ]
  },
  {
   "cell_type": "markdown",
   "id": "173eca60-bd62-4b44-b02d-ad3f21303152",
   "metadata": {},
   "source": [
    "### Splitting The Dataset"
   ]
  },
  {
   "cell_type": "code",
   "execution_count": 506,
   "id": "d9eb20cd-0e1c-45ff-81c5-0a342fd87818",
   "metadata": {
    "executionCancelledAt": null,
    "executionTime": 43,
    "lastExecutedAt": 1686091582367,
    "lastScheduledRunId": null,
    "lastSuccessfullyExecutedCode": "# creating the client dataframe\nclient_column=['client_id', 'age', 'job', 'marital', 'education', 'credit_default', 'housing', 'loan']\nclient= bank_marketing[client_column].copy()\nclient.head(1)"
   },
   "outputs": [
    {
     "data": {
      "application/com.datacamp.data-table.v1+json": {
       "table": {
        "data": [
         {
          "age": 56,
          "client_id": 0,
          "credit_default": "no",
          "education": "basic.4y",
          "housing": "no",
          "index": 0,
          "job": "housemaid",
          "loan": "no",
          "marital": "married"
         }
        ],
        "schema": {
         "fields": [
          {
           "name": "index",
           "type": "integer"
          },
          {
           "name": "client_id",
           "type": "integer"
          },
          {
           "name": "age",
           "type": "integer"
          },
          {
           "name": "job",
           "type": "string"
          },
          {
           "name": "marital",
           "type": "string"
          },
          {
           "name": "education",
           "type": "string"
          },
          {
           "name": "credit_default",
           "type": "string"
          },
          {
           "name": "housing",
           "type": "string"
          },
          {
           "name": "loan",
           "type": "string"
          }
         ],
         "pandas_version": "1.4.0",
         "primaryKey": [
          "index"
         ]
        }
       },
       "total_rows": 1,
       "truncation_type": null
      },
      "text/html": [
       "<div>\n",
       "<style scoped>\n",
       "    .dataframe tbody tr th:only-of-type {\n",
       "        vertical-align: middle;\n",
       "    }\n",
       "\n",
       "    .dataframe tbody tr th {\n",
       "        vertical-align: top;\n",
       "    }\n",
       "\n",
       "    .dataframe thead th {\n",
       "        text-align: right;\n",
       "    }\n",
       "</style>\n",
       "<table border=\"1\" class=\"dataframe\">\n",
       "  <thead>\n",
       "    <tr style=\"text-align: right;\">\n",
       "      <th></th>\n",
       "      <th>client_id</th>\n",
       "      <th>age</th>\n",
       "      <th>job</th>\n",
       "      <th>marital</th>\n",
       "      <th>education</th>\n",
       "      <th>credit_default</th>\n",
       "      <th>housing</th>\n",
       "      <th>loan</th>\n",
       "    </tr>\n",
       "  </thead>\n",
       "  <tbody>\n",
       "    <tr>\n",
       "      <th>0</th>\n",
       "      <td>0</td>\n",
       "      <td>56</td>\n",
       "      <td>housemaid</td>\n",
       "      <td>married</td>\n",
       "      <td>basic.4y</td>\n",
       "      <td>no</td>\n",
       "      <td>no</td>\n",
       "      <td>no</td>\n",
       "    </tr>\n",
       "  </tbody>\n",
       "</table>\n",
       "</div>"
      ],
      "text/plain": [
       "   client_id  age        job  marital education credit_default housing loan\n",
       "0          0   56  housemaid  married  basic.4y             no      no   no"
      ]
     },
     "execution_count": 506,
     "metadata": {},
     "output_type": "execute_result"
    }
   ],
   "source": [
    "# creating the client dataframe\n",
    "client_column=['client_id', 'age', 'job', 'marital', 'education', 'credit_default', 'housing', 'loan']\n",
    "client= bank_marketing[client_column].copy()\n",
    "client.head(1)"
   ]
  },
  {
   "cell_type": "code",
   "execution_count": 507,
   "id": "184865a8-249d-495d-bbfd-4cc069327edc",
   "metadata": {
    "executionCancelledAt": null,
    "executionTime": 47,
    "lastExecutedAt": 1686091582414,
    "lastScheduledRunId": null,
    "lastSuccessfullyExecutedCode": "# creating the campaign dataframe\ncampaign_columns= ['campaign', 'duration', 'previous', 'y', 'poutcome', 'pdays']\ncampaign = bank_marketing[campaign_columns].copy()\ncampaign.head(1)"
   },
   "outputs": [
    {
     "data": {
      "application/com.datacamp.data-table.v1+json": {
       "table": {
        "data": [
         {
          "campaign": 1,
          "duration": 261,
          "index": 0,
          "pdays": 999,
          "poutcome": "nonexistent",
          "previous": 0,
          "y": "no"
         }
        ],
        "schema": {
         "fields": [
          {
           "name": "index",
           "type": "integer"
          },
          {
           "name": "campaign",
           "type": "integer"
          },
          {
           "name": "duration",
           "type": "integer"
          },
          {
           "name": "previous",
           "type": "integer"
          },
          {
           "name": "y",
           "type": "string"
          },
          {
           "name": "poutcome",
           "type": "string"
          },
          {
           "name": "pdays",
           "type": "integer"
          }
         ],
         "pandas_version": "1.4.0",
         "primaryKey": [
          "index"
         ]
        }
       },
       "total_rows": 1,
       "truncation_type": null
      },
      "text/html": [
       "<div>\n",
       "<style scoped>\n",
       "    .dataframe tbody tr th:only-of-type {\n",
       "        vertical-align: middle;\n",
       "    }\n",
       "\n",
       "    .dataframe tbody tr th {\n",
       "        vertical-align: top;\n",
       "    }\n",
       "\n",
       "    .dataframe thead th {\n",
       "        text-align: right;\n",
       "    }\n",
       "</style>\n",
       "<table border=\"1\" class=\"dataframe\">\n",
       "  <thead>\n",
       "    <tr style=\"text-align: right;\">\n",
       "      <th></th>\n",
       "      <th>campaign</th>\n",
       "      <th>duration</th>\n",
       "      <th>previous</th>\n",
       "      <th>y</th>\n",
       "      <th>poutcome</th>\n",
       "      <th>pdays</th>\n",
       "    </tr>\n",
       "  </thead>\n",
       "  <tbody>\n",
       "    <tr>\n",
       "      <th>0</th>\n",
       "      <td>1</td>\n",
       "      <td>261</td>\n",
       "      <td>0</td>\n",
       "      <td>no</td>\n",
       "      <td>nonexistent</td>\n",
       "      <td>999</td>\n",
       "    </tr>\n",
       "  </tbody>\n",
       "</table>\n",
       "</div>"
      ],
      "text/plain": [
       "   campaign  duration  previous   y     poutcome  pdays\n",
       "0         1       261         0  no  nonexistent    999"
      ]
     },
     "execution_count": 507,
     "metadata": {},
     "output_type": "execute_result"
    }
   ],
   "source": [
    "# creating the campaign dataframe\n",
    "campaign_columns= ['campaign', 'duration', 'previous', 'y', 'poutcome', 'pdays']\n",
    "campaign = bank_marketing[campaign_columns].copy()\n",
    "campaign.head(1)"
   ]
  },
  {
   "cell_type": "code",
   "execution_count": 508,
   "id": "e80771b5-1750-494e-a78a-52b8272a8c77",
   "metadata": {
    "executionCancelledAt": null,
    "executionTime": 51,
    "lastExecutedAt": 1686091582466,
    "lastScheduledRunId": null,
    "lastSuccessfullyExecutedCode": "# creating the economics dataframe\neconomics_columns= ['emp_var_rate', 'cons_price_idx', 'euribor3m', 'nr_employed']\neconomics = bank_marketing[economics_columns].copy()\neconomics.head(1)"
   },
   "outputs": [
    {
     "data": {
      "application/com.datacamp.data-table.v1+json": {
       "table": {
        "data": [
         {
          "cons_price_idx": 93.994,
          "emp_var_rate": 1.1,
          "euribor3m": 4.857,
          "index": 0,
          "nr_employed": 5191
         }
        ],
        "schema": {
         "fields": [
          {
           "name": "index",
           "type": "integer"
          },
          {
           "name": "emp_var_rate",
           "type": "number"
          },
          {
           "name": "cons_price_idx",
           "type": "number"
          },
          {
           "name": "euribor3m",
           "type": "number"
          },
          {
           "name": "nr_employed",
           "type": "number"
          }
         ],
         "pandas_version": "1.4.0",
         "primaryKey": [
          "index"
         ]
        }
       },
       "total_rows": 1,
       "truncation_type": null
      },
      "text/html": [
       "<div>\n",
       "<style scoped>\n",
       "    .dataframe tbody tr th:only-of-type {\n",
       "        vertical-align: middle;\n",
       "    }\n",
       "\n",
       "    .dataframe tbody tr th {\n",
       "        vertical-align: top;\n",
       "    }\n",
       "\n",
       "    .dataframe thead th {\n",
       "        text-align: right;\n",
       "    }\n",
       "</style>\n",
       "<table border=\"1\" class=\"dataframe\">\n",
       "  <thead>\n",
       "    <tr style=\"text-align: right;\">\n",
       "      <th></th>\n",
       "      <th>emp_var_rate</th>\n",
       "      <th>cons_price_idx</th>\n",
       "      <th>euribor3m</th>\n",
       "      <th>nr_employed</th>\n",
       "    </tr>\n",
       "  </thead>\n",
       "  <tbody>\n",
       "    <tr>\n",
       "      <th>0</th>\n",
       "      <td>1.1</td>\n",
       "      <td>93.994</td>\n",
       "      <td>4.857</td>\n",
       "      <td>5191.0</td>\n",
       "    </tr>\n",
       "  </tbody>\n",
       "</table>\n",
       "</div>"
      ],
      "text/plain": [
       "   emp_var_rate  cons_price_idx  euribor3m  nr_employed\n",
       "0           1.1          93.994      4.857       5191.0"
      ]
     },
     "execution_count": 508,
     "metadata": {},
     "output_type": "execute_result"
    }
   ],
   "source": [
    "# creating the economics dataframe\n",
    "economics_columns= ['emp_var_rate', 'cons_price_idx', 'euribor3m', 'nr_employed']\n",
    "economics = bank_marketing[economics_columns].copy()\n",
    "economics.head(1)"
   ]
  },
  {
   "cell_type": "markdown",
   "id": "748fc34e-edbe-4fac-9c60-b5a2d10bf62f",
   "metadata": {},
   "source": [
    "### Data Cleaning"
   ]
  },
  {
   "cell_type": "code",
   "execution_count": 509,
   "id": "570e5181-5e49-43f0-8c28-6577638f8602",
   "metadata": {
    "executionCancelledAt": null,
    "executionTime": 48,
    "lastExecutedAt": 1686091582515,
    "lastScheduledRunId": null,
    "lastSuccessfullyExecutedCode": "# Renaming some columns in the three dataframes\nclient.rename(columns= {\"client_id\" : \"id\"}, inplace= True)\nclient.columns"
   },
   "outputs": [
    {
     "data": {
      "text/plain": [
       "Index(['id', 'age', 'job', 'marital', 'education', 'credit_default', 'housing',\n",
       "       'loan'],\n",
       "      dtype='object')"
      ]
     },
     "execution_count": 509,
     "metadata": {},
     "output_type": "execute_result"
    }
   ],
   "source": [
    "# Renaming some columns in the three dataframes\n",
    "client.rename(columns= {\"client_id\" : \"id\"}, inplace= True)\n",
    "client.columns"
   ]
  },
  {
   "cell_type": "code",
   "execution_count": 510,
   "id": "6baf4070-fa1e-498d-b5b6-c304fe01b41e",
   "metadata": {
    "executionCancelledAt": null,
    "executionTime": 51,
    "lastExecutedAt": 1686091582566,
    "lastScheduledRunId": null,
    "lastSuccessfullyExecutedCode": "campaign.rename(columns= {\"duration\" : \"contact_duration\", \"previous\":\"previous_campaign_contacts\", \"y\":\"campaign_outcome\", \"poutcome\":\"previous_outcome\", \"campaign\":\"number_contacts\" }, inplace= True)\ncampaign.columns"
   },
   "outputs": [
    {
     "data": {
      "text/plain": [
       "Index(['number_contacts', 'contact_duration', 'previous_campaign_contacts',\n",
       "       'campaign_outcome', 'previous_outcome', 'pdays'],\n",
       "      dtype='object')"
      ]
     },
     "execution_count": 510,
     "metadata": {},
     "output_type": "execute_result"
    }
   ],
   "source": [
    "campaign.rename(columns= {\"duration\" : \"contact_duration\", \"previous\":\"previous_campaign_contacts\", \"y\":\"campaign_outcome\", \"poutcome\":\"previous_outcome\", \"campaign\":\"number_contacts\" }, inplace= True)\n",
    "campaign.columns"
   ]
  },
  {
   "cell_type": "code",
   "execution_count": 511,
   "id": "1efb5e1a-a5c5-4cc9-abaa-0120f564969f",
   "metadata": {
    "executionCancelledAt": null,
    "executionTime": 49,
    "lastExecutedAt": 1686091582615,
    "lastScheduledRunId": null,
    "lastSuccessfullyExecutedCode": "economics.rename(columns={\"euribor3m\":\"euribor_three_months\", \"nr_employed\":\"number_employed\"}, inplace= True)\ncampaign.columns"
   },
   "outputs": [
    {
     "data": {
      "text/plain": [
       "Index(['number_contacts', 'contact_duration', 'previous_campaign_contacts',\n",
       "       'campaign_outcome', 'previous_outcome', 'pdays'],\n",
       "      dtype='object')"
      ]
     },
     "execution_count": 511,
     "metadata": {},
     "output_type": "execute_result"
    }
   ],
   "source": [
    "economics.rename(columns={\"euribor3m\":\"euribor_three_months\", \"nr_employed\":\"number_employed\"}, inplace= True)\n",
    "campaign.columns"
   ]
  },
  {
   "cell_type": "code",
   "execution_count": 512,
   "id": "a9fd5153-4cf1-40bb-b010-76ddf571f3a1",
   "metadata": {
    "executionCancelledAt": null,
    "executionTime": 48,
    "lastExecutedAt": 1686091582663,
    "lastScheduledRunId": null,
    "lastSuccessfullyExecutedCode": "# changing \".\" in education column to \"_\"\nclient['education']= client['education'].str.replace(\".\", \"_\")\nclient.head(1)"
   },
   "outputs": [
    {
     "data": {
      "application/com.datacamp.data-table.v1+json": {
       "table": {
        "data": [
         {
          "age": 56,
          "credit_default": "no",
          "education": "basic_4y",
          "housing": "no",
          "id": 0,
          "index": 0,
          "job": "housemaid",
          "loan": "no",
          "marital": "married"
         }
        ],
        "schema": {
         "fields": [
          {
           "name": "index",
           "type": "integer"
          },
          {
           "name": "id",
           "type": "integer"
          },
          {
           "name": "age",
           "type": "integer"
          },
          {
           "name": "job",
           "type": "string"
          },
          {
           "name": "marital",
           "type": "string"
          },
          {
           "name": "education",
           "type": "string"
          },
          {
           "name": "credit_default",
           "type": "string"
          },
          {
           "name": "housing",
           "type": "string"
          },
          {
           "name": "loan",
           "type": "string"
          }
         ],
         "pandas_version": "1.4.0",
         "primaryKey": [
          "index"
         ]
        }
       },
       "total_rows": 1,
       "truncation_type": null
      },
      "text/html": [
       "<div>\n",
       "<style scoped>\n",
       "    .dataframe tbody tr th:only-of-type {\n",
       "        vertical-align: middle;\n",
       "    }\n",
       "\n",
       "    .dataframe tbody tr th {\n",
       "        vertical-align: top;\n",
       "    }\n",
       "\n",
       "    .dataframe thead th {\n",
       "        text-align: right;\n",
       "    }\n",
       "</style>\n",
       "<table border=\"1\" class=\"dataframe\">\n",
       "  <thead>\n",
       "    <tr style=\"text-align: right;\">\n",
       "      <th></th>\n",
       "      <th>id</th>\n",
       "      <th>age</th>\n",
       "      <th>job</th>\n",
       "      <th>marital</th>\n",
       "      <th>education</th>\n",
       "      <th>credit_default</th>\n",
       "      <th>housing</th>\n",
       "      <th>loan</th>\n",
       "    </tr>\n",
       "  </thead>\n",
       "  <tbody>\n",
       "    <tr>\n",
       "      <th>0</th>\n",
       "      <td>0</td>\n",
       "      <td>56</td>\n",
       "      <td>housemaid</td>\n",
       "      <td>married</td>\n",
       "      <td>basic_4y</td>\n",
       "      <td>no</td>\n",
       "      <td>no</td>\n",
       "      <td>no</td>\n",
       "    </tr>\n",
       "  </tbody>\n",
       "</table>\n",
       "</div>"
      ],
      "text/plain": [
       "   id  age        job  marital education credit_default housing loan\n",
       "0   0   56  housemaid  married  basic_4y             no      no   no"
      ]
     },
     "execution_count": 512,
     "metadata": {},
     "output_type": "execute_result"
    }
   ],
   "source": [
    "# changing \".\" in education column to \"_\"\n",
    "client['education']= client['education'].str.replace(\".\", \"_\")\n",
    "client.head(1)"
   ]
  },
  {
   "cell_type": "code",
   "execution_count": 513,
   "id": "8afa92bd-80e4-4054-9d89-e4c8b80f2520",
   "metadata": {
    "executionCancelledAt": null,
    "executionTime": 48,
    "lastExecutedAt": 1686091582711,
    "lastScheduledRunId": null,
    "lastSuccessfullyExecutedCode": "# changing \"unknown\" to NumPy's null values\nclient['education']= client['education'].replace(\"unknown\", np.nan)\nclient.education.unique()"
   },
   "outputs": [
    {
     "data": {
      "text/plain": [
       "array(['basic_4y', 'high_school', 'basic_6y', 'basic_9y',\n",
       "       'professional_course', nan, 'university_degree', 'illiterate'],\n",
       "      dtype=object)"
      ]
     },
     "execution_count": 513,
     "metadata": {},
     "output_type": "execute_result"
    }
   ],
   "source": [
    "# changing \"unknown\" to NumPy's null values\n",
    "client['education']= client['education'].replace(\"unknown\", np.nan)\n",
    "client.education.unique()"
   ]
  },
  {
   "cell_type": "code",
   "execution_count": 514,
   "id": "4701c084-06d1-4453-82f6-5fe2b12a7a29",
   "metadata": {
    "executionCancelledAt": null,
    "executionTime": 60,
    "lastExecutedAt": 1686091582771,
    "lastScheduledRunId": null,
    "lastSuccessfullyExecutedCode": "# removing \".\" in job column\nclient['job']= client['job'].str.replace(\".\", \"\")\nclient.head(1)\nclient.job.unique()"
   },
   "outputs": [
    {
     "data": {
      "text/plain": [
       "array(['housemaid', 'services', 'admin', 'blue-collar', 'technician',\n",
       "       'retired', 'management', 'unemployed', 'self-employed', 'unknown',\n",
       "       'entrepreneur', 'student'], dtype=object)"
      ]
     },
     "execution_count": 514,
     "metadata": {},
     "output_type": "execute_result"
    }
   ],
   "source": [
    "# removing \".\" in job column\n",
    "client['job']= client['job'].str.replace(\".\", \"\")\n",
    "client.head(1)\n",
    "client.job.unique()"
   ]
  },
  {
   "cell_type": "code",
   "execution_count": 515,
   "id": "587c0942-a1bd-4b6f-9eed-568f3bee5a14",
   "metadata": {
    "executionCancelledAt": null,
    "executionTime": 52,
    "lastExecutedAt": 1686091582823,
    "lastScheduledRunId": null,
    "lastSuccessfullyExecutedCode": "# Converting \"success\" and \"failure\" in the \"previous_outcome\" column to binary (1 or 0)\ncampaign[\"previous_outcome\"]= campaign[\"previous_outcome\"].map({\"success\":1, \"failure\":0})\n\ncampaign.previous_outcome.unique()"
   },
   "outputs": [
    {
     "data": {
      "text/plain": [
       "array([nan,  0.,  1.])"
      ]
     },
     "execution_count": 515,
     "metadata": {},
     "output_type": "execute_result"
    }
   ],
   "source": [
    "# Converting \"success\" and \"failure\" in the \"previous_outcome\" column to binary (1 or 0)\n",
    "campaign[\"previous_outcome\"]= campaign[\"previous_outcome\"].map({\"success\":1, \"failure\":0})\n",
    "\n",
    "campaign.previous_outcome.unique()"
   ]
  },
  {
   "cell_type": "code",
   "execution_count": 516,
   "id": "7218537f-3df1-409c-af50-3bf864eed88f",
   "metadata": {
    "executionCancelledAt": null,
    "executionTime": 48,
    "lastExecutedAt": 1686091582871,
    "lastScheduledRunId": null,
    "lastSuccessfullyExecutedCode": "# checking for unique values in campaign_outcome column\ncampaign.campaign_outcome.unique()"
   },
   "outputs": [
    {
     "data": {
      "text/plain": [
       "array(['no', 'yes'], dtype=object)"
      ]
     },
     "execution_count": 516,
     "metadata": {},
     "output_type": "execute_result"
    }
   ],
   "source": [
    "# checking for unique values in campaign_outcome column\n",
    "campaign.campaign_outcome.unique()"
   ]
  },
  {
   "cell_type": "code",
   "execution_count": 517,
   "id": "ef1c8e17-dd59-4554-b7ad-8ef78384687f",
   "metadata": {
    "executionCancelledAt": null,
    "executionTime": 52,
    "lastExecutedAt": 1686091582923,
    "lastScheduledRunId": null,
    "lastSuccessfullyExecutedCode": "# Converting \"yes\" and \"no\" in the  \"campaign_outcome\" column to binary (1 or 0)\ncampaign[\"campaign_outcome\"]= campaign[\"campaign_outcome\"].map({\"yes\":1, \"no\":0})\ncampaign.campaign_outcome.unique()"
   },
   "outputs": [
    {
     "data": {
      "text/plain": [
       "array([0, 1])"
      ]
     },
     "execution_count": 517,
     "metadata": {},
     "output_type": "execute_result"
    }
   ],
   "source": [
    "# Converting \"yes\" and \"no\" in the  \"campaign_outcome\" column to binary (1 or 0)\n",
    "campaign[\"campaign_outcome\"]= campaign[\"campaign_outcome\"].map({\"yes\":1, \"no\":0})\n",
    "campaign.campaign_outcome.unique()"
   ]
  },
  {
   "cell_type": "code",
   "execution_count": 518,
   "id": "78d9d143-4379-4e88-878c-0301a0b3cd51",
   "metadata": {
    "executionCancelledAt": null,
    "executionTime": 47,
    "lastExecutedAt": 1686091582970,
    "lastScheduledRunId": null,
    "lastSuccessfullyExecutedCode": "# creating new column in campaign dataframe\n#campaign[\"campaign_id\"]=pd.series(1, index=)\ncampaign.insert(0, \"campaign_id\", [1]*41188, allow_duplicates=True)"
   },
   "outputs": [],
   "source": [
    "# creating new column in campaign dataframe\n",
    "#campaign[\"campaign_id\"]=pd.series(1, index=)\n",
    "campaign.insert(0, \"campaign_id\", [1]*41188, allow_duplicates=True)"
   ]
  },
  {
   "cell_type": "code",
   "execution_count": 519,
   "id": "df3ead61-5a4c-466f-89dc-df6d1df75925",
   "metadata": {
    "executionCancelledAt": null,
    "executionTime": 48,
    "lastExecutedAt": 1686091583018,
    "lastScheduledRunId": null,
    "lastSuccessfullyExecutedCode": "campaign[\"campaign_outcome\"]"
   },
   "outputs": [
    {
     "data": {
      "text/plain": [
       "0        0\n",
       "1        0\n",
       "2        0\n",
       "3        0\n",
       "4        0\n",
       "        ..\n",
       "41183    1\n",
       "41184    0\n",
       "41185    0\n",
       "41186    1\n",
       "41187    0\n",
       "Name: campaign_outcome, Length: 41188, dtype: int64"
      ]
     },
     "execution_count": 519,
     "metadata": {},
     "output_type": "execute_result"
    }
   ],
   "source": [
    "campaign[\"campaign_outcome\"]"
   ]
  },
  {
   "cell_type": "code",
   "execution_count": 520,
   "id": "c4515065-1931-4d35-973e-98459695ab5c",
   "metadata": {
    "executionCancelledAt": null,
    "executionTime": 101,
    "lastExecutedAt": 1686091583119,
    "lastScheduledRunId": null,
    "lastSuccessfullyExecutedCode": "# Create a datetime column called last_contact_date in campaign data frame\n\ndf= pd.DataFrame()\ndf=bank_marketing[['month','day']].copy()\ndf.insert(0, \"year\", [2022]*41188, allow_duplicates=True)\n\ndf[\"contact_date\"]=df[\"year\"].astype(str)+'-'+df[\"month\"].str.capitalize()+'-'+df[\"day\"].astype(str)\ndf[\"contact_date\"]= df[\"contact_date\"].astype('datetime64[ns]')\ndf[\"contact_date\"]=pd.to_datetime(df[\"contact_date\"]).dt.date\ncampaign[\"last_contact_date\"]=df[[\"contact_date\"]].copy()"
   },
   "outputs": [],
   "source": [
    "# Create a datetime column called last_contact_date in campaign data frame\n",
    "\n",
    "df= pd.DataFrame()\n",
    "df=bank_marketing[['month','day']].copy()\n",
    "df.insert(0, \"year\", [2022]*41188, allow_duplicates=True)\n",
    "\n",
    "df[\"contact_date\"]=df[\"year\"].astype(str)+'-'+df[\"month\"].str.capitalize()+'-'+df[\"day\"].astype(str)\n",
    "df[\"contact_date\"]= df[\"contact_date\"].astype('datetime64[ns]')\n",
    "df[\"contact_date\"]=pd.to_datetime(df[\"contact_date\"]).dt.date\n",
    "campaign[\"last_contact_date\"]=df[[\"contact_date\"]].copy()"
   ]
  },
  {
   "cell_type": "code",
   "execution_count": 521,
   "id": "02d21af7-cc3a-4a3d-b108-432a6b3024d0",
   "metadata": {
    "executionCancelledAt": null,
    "executionTime": 59,
    "lastExecutedAt": 1686091583179,
    "lastScheduledRunId": null,
    "lastSuccessfullyExecutedCode": "campaign.head(1)"
   },
   "outputs": [
    {
     "data": {
      "application/com.datacamp.data-table.v1+json": {
       "table": {
        "data": [
         {
          "campaign_id": 1,
          "campaign_outcome": 0,
          "contact_duration": 261,
          "index": 0,
          "last_contact_date": "2022-05-13T00:00:00.000",
          "number_contacts": 1,
          "pdays": 999,
          "previous_campaign_contacts": 0,
          "previous_outcome": null
         }
        ],
        "schema": {
         "fields": [
          {
           "name": "index",
           "type": "integer"
          },
          {
           "name": "campaign_id",
           "type": "integer"
          },
          {
           "name": "number_contacts",
           "type": "integer"
          },
          {
           "name": "contact_duration",
           "type": "integer"
          },
          {
           "name": "previous_campaign_contacts",
           "type": "integer"
          },
          {
           "name": "campaign_outcome",
           "type": "integer"
          },
          {
           "name": "previous_outcome",
           "type": "number"
          },
          {
           "name": "pdays",
           "type": "integer"
          },
          {
           "name": "last_contact_date",
           "type": "string"
          }
         ],
         "pandas_version": "1.4.0",
         "primaryKey": [
          "index"
         ]
        }
       },
       "total_rows": 1,
       "truncation_type": null
      },
      "text/html": [
       "<div>\n",
       "<style scoped>\n",
       "    .dataframe tbody tr th:only-of-type {\n",
       "        vertical-align: middle;\n",
       "    }\n",
       "\n",
       "    .dataframe tbody tr th {\n",
       "        vertical-align: top;\n",
       "    }\n",
       "\n",
       "    .dataframe thead th {\n",
       "        text-align: right;\n",
       "    }\n",
       "</style>\n",
       "<table border=\"1\" class=\"dataframe\">\n",
       "  <thead>\n",
       "    <tr style=\"text-align: right;\">\n",
       "      <th></th>\n",
       "      <th>campaign_id</th>\n",
       "      <th>number_contacts</th>\n",
       "      <th>contact_duration</th>\n",
       "      <th>previous_campaign_contacts</th>\n",
       "      <th>campaign_outcome</th>\n",
       "      <th>previous_outcome</th>\n",
       "      <th>pdays</th>\n",
       "      <th>last_contact_date</th>\n",
       "    </tr>\n",
       "  </thead>\n",
       "  <tbody>\n",
       "    <tr>\n",
       "      <th>0</th>\n",
       "      <td>1</td>\n",
       "      <td>1</td>\n",
       "      <td>261</td>\n",
       "      <td>0</td>\n",
       "      <td>0</td>\n",
       "      <td>NaN</td>\n",
       "      <td>999</td>\n",
       "      <td>2022-05-13</td>\n",
       "    </tr>\n",
       "  </tbody>\n",
       "</table>\n",
       "</div>"
      ],
      "text/plain": [
       "   campaign_id  number_contacts  ...  pdays  last_contact_date\n",
       "0            1                1  ...    999         2022-05-13\n",
       "\n",
       "[1 rows x 8 columns]"
      ]
     },
     "execution_count": 521,
     "metadata": {},
     "output_type": "execute_result"
    }
   ],
   "source": [
    "campaign.head(1)"
   ]
  },
  {
   "cell_type": "code",
   "execution_count": 522,
   "id": "f50136f2-0fea-4013-8ff4-7f1e28f014f7",
   "metadata": {
    "executionCancelledAt": null,
    "executionTime": 47,
    "lastExecutedAt": 1686091583226,
    "lastScheduledRunId": null,
    "lastSuccessfullyExecutedCode": "campaign.insert(1, \"client_id\", client.id)"
   },
   "outputs": [],
   "source": [
    "campaign.insert(1, \"client_id\", client.id)"
   ]
  },
  {
   "cell_type": "code",
   "execution_count": 523,
   "id": "3830e168-d7db-4fd2-9794-a4d69d2774b2",
   "metadata": {
    "executionCancelledAt": null,
    "executionTime": 48,
    "lastExecutedAt": 1686091583274,
    "lastScheduledRunId": null,
    "lastSuccessfullyExecutedCode": "client.head()"
   },
   "outputs": [
    {
     "data": {
      "application/com.datacamp.data-table.v1+json": {
       "table": {
        "data": [
         {
          "age": 56,
          "credit_default": "no",
          "education": "basic_4y",
          "housing": "no",
          "id": 0,
          "index": 0,
          "job": "housemaid",
          "loan": "no",
          "marital": "married"
         },
         {
          "age": 57,
          "credit_default": "unknown",
          "education": "high_school",
          "housing": "no",
          "id": 1,
          "index": 1,
          "job": "services",
          "loan": "no",
          "marital": "married"
         },
         {
          "age": 37,
          "credit_default": "no",
          "education": "high_school",
          "housing": "yes",
          "id": 2,
          "index": 2,
          "job": "services",
          "loan": "no",
          "marital": "married"
         },
         {
          "age": 40,
          "credit_default": "no",
          "education": "basic_6y",
          "housing": "no",
          "id": 3,
          "index": 3,
          "job": "admin",
          "loan": "no",
          "marital": "married"
         },
         {
          "age": 56,
          "credit_default": "no",
          "education": "high_school",
          "housing": "no",
          "id": 4,
          "index": 4,
          "job": "services",
          "loan": "yes",
          "marital": "married"
         }
        ],
        "schema": {
         "fields": [
          {
           "name": "index",
           "type": "integer"
          },
          {
           "name": "id",
           "type": "integer"
          },
          {
           "name": "age",
           "type": "integer"
          },
          {
           "name": "job",
           "type": "string"
          },
          {
           "name": "marital",
           "type": "string"
          },
          {
           "name": "education",
           "type": "string"
          },
          {
           "name": "credit_default",
           "type": "string"
          },
          {
           "name": "housing",
           "type": "string"
          },
          {
           "name": "loan",
           "type": "string"
          }
         ],
         "pandas_version": "1.4.0",
         "primaryKey": [
          "index"
         ]
        }
       },
       "total_rows": 5,
       "truncation_type": null
      },
      "text/html": [
       "<div>\n",
       "<style scoped>\n",
       "    .dataframe tbody tr th:only-of-type {\n",
       "        vertical-align: middle;\n",
       "    }\n",
       "\n",
       "    .dataframe tbody tr th {\n",
       "        vertical-align: top;\n",
       "    }\n",
       "\n",
       "    .dataframe thead th {\n",
       "        text-align: right;\n",
       "    }\n",
       "</style>\n",
       "<table border=\"1\" class=\"dataframe\">\n",
       "  <thead>\n",
       "    <tr style=\"text-align: right;\">\n",
       "      <th></th>\n",
       "      <th>id</th>\n",
       "      <th>age</th>\n",
       "      <th>job</th>\n",
       "      <th>marital</th>\n",
       "      <th>education</th>\n",
       "      <th>credit_default</th>\n",
       "      <th>housing</th>\n",
       "      <th>loan</th>\n",
       "    </tr>\n",
       "  </thead>\n",
       "  <tbody>\n",
       "    <tr>\n",
       "      <th>0</th>\n",
       "      <td>0</td>\n",
       "      <td>56</td>\n",
       "      <td>housemaid</td>\n",
       "      <td>married</td>\n",
       "      <td>basic_4y</td>\n",
       "      <td>no</td>\n",
       "      <td>no</td>\n",
       "      <td>no</td>\n",
       "    </tr>\n",
       "    <tr>\n",
       "      <th>1</th>\n",
       "      <td>1</td>\n",
       "      <td>57</td>\n",
       "      <td>services</td>\n",
       "      <td>married</td>\n",
       "      <td>high_school</td>\n",
       "      <td>unknown</td>\n",
       "      <td>no</td>\n",
       "      <td>no</td>\n",
       "    </tr>\n",
       "    <tr>\n",
       "      <th>2</th>\n",
       "      <td>2</td>\n",
       "      <td>37</td>\n",
       "      <td>services</td>\n",
       "      <td>married</td>\n",
       "      <td>high_school</td>\n",
       "      <td>no</td>\n",
       "      <td>yes</td>\n",
       "      <td>no</td>\n",
       "    </tr>\n",
       "    <tr>\n",
       "      <th>3</th>\n",
       "      <td>3</td>\n",
       "      <td>40</td>\n",
       "      <td>admin</td>\n",
       "      <td>married</td>\n",
       "      <td>basic_6y</td>\n",
       "      <td>no</td>\n",
       "      <td>no</td>\n",
       "      <td>no</td>\n",
       "    </tr>\n",
       "    <tr>\n",
       "      <th>4</th>\n",
       "      <td>4</td>\n",
       "      <td>56</td>\n",
       "      <td>services</td>\n",
       "      <td>married</td>\n",
       "      <td>high_school</td>\n",
       "      <td>no</td>\n",
       "      <td>no</td>\n",
       "      <td>yes</td>\n",
       "    </tr>\n",
       "  </tbody>\n",
       "</table>\n",
       "</div>"
      ],
      "text/plain": [
       "   id  age        job  marital    education credit_default housing loan\n",
       "0   0   56  housemaid  married     basic_4y             no      no   no\n",
       "1   1   57   services  married  high_school        unknown      no   no\n",
       "2   2   37   services  married  high_school             no     yes   no\n",
       "3   3   40      admin  married     basic_6y             no      no   no\n",
       "4   4   56   services  married  high_school             no      no  yes"
      ]
     },
     "execution_count": 523,
     "metadata": {},
     "output_type": "execute_result"
    }
   ],
   "source": [
    "client.head()"
   ]
  },
  {
   "cell_type": "code",
   "execution_count": 524,
   "id": "2d164df3-42e7-4c45-8de0-d083c60e10a1",
   "metadata": {
    "executionCancelledAt": null,
    "executionTime": 52,
    "lastExecutedAt": 1686091583326,
    "lastScheduledRunId": null,
    "lastSuccessfullyExecutedCode": "economics.head()"
   },
   "outputs": [
    {
     "data": {
      "application/com.datacamp.data-table.v1+json": {
       "table": {
        "data": [
         {
          "cons_price_idx": 93.994,
          "emp_var_rate": 1.1,
          "euribor_three_months": 4.857,
          "index": 0,
          "number_employed": 5191
         },
         {
          "cons_price_idx": 93.994,
          "emp_var_rate": 1.1,
          "euribor_three_months": 4.857,
          "index": 1,
          "number_employed": 5191
         },
         {
          "cons_price_idx": 93.994,
          "emp_var_rate": 1.1,
          "euribor_three_months": 4.857,
          "index": 2,
          "number_employed": 5191
         },
         {
          "cons_price_idx": 93.994,
          "emp_var_rate": 1.1,
          "euribor_three_months": 4.857,
          "index": 3,
          "number_employed": 5191
         },
         {
          "cons_price_idx": 93.994,
          "emp_var_rate": 1.1,
          "euribor_three_months": 4.857,
          "index": 4,
          "number_employed": 5191
         }
        ],
        "schema": {
         "fields": [
          {
           "name": "index",
           "type": "integer"
          },
          {
           "name": "emp_var_rate",
           "type": "number"
          },
          {
           "name": "cons_price_idx",
           "type": "number"
          },
          {
           "name": "euribor_three_months",
           "type": "number"
          },
          {
           "name": "number_employed",
           "type": "number"
          }
         ],
         "pandas_version": "1.4.0",
         "primaryKey": [
          "index"
         ]
        }
       },
       "total_rows": 5,
       "truncation_type": null
      },
      "text/html": [
       "<div>\n",
       "<style scoped>\n",
       "    .dataframe tbody tr th:only-of-type {\n",
       "        vertical-align: middle;\n",
       "    }\n",
       "\n",
       "    .dataframe tbody tr th {\n",
       "        vertical-align: top;\n",
       "    }\n",
       "\n",
       "    .dataframe thead th {\n",
       "        text-align: right;\n",
       "    }\n",
       "</style>\n",
       "<table border=\"1\" class=\"dataframe\">\n",
       "  <thead>\n",
       "    <tr style=\"text-align: right;\">\n",
       "      <th></th>\n",
       "      <th>emp_var_rate</th>\n",
       "      <th>cons_price_idx</th>\n",
       "      <th>euribor_three_months</th>\n",
       "      <th>number_employed</th>\n",
       "    </tr>\n",
       "  </thead>\n",
       "  <tbody>\n",
       "    <tr>\n",
       "      <th>0</th>\n",
       "      <td>1.1</td>\n",
       "      <td>93.994</td>\n",
       "      <td>4.857</td>\n",
       "      <td>5191.0</td>\n",
       "    </tr>\n",
       "    <tr>\n",
       "      <th>1</th>\n",
       "      <td>1.1</td>\n",
       "      <td>93.994</td>\n",
       "      <td>4.857</td>\n",
       "      <td>5191.0</td>\n",
       "    </tr>\n",
       "    <tr>\n",
       "      <th>2</th>\n",
       "      <td>1.1</td>\n",
       "      <td>93.994</td>\n",
       "      <td>4.857</td>\n",
       "      <td>5191.0</td>\n",
       "    </tr>\n",
       "    <tr>\n",
       "      <th>3</th>\n",
       "      <td>1.1</td>\n",
       "      <td>93.994</td>\n",
       "      <td>4.857</td>\n",
       "      <td>5191.0</td>\n",
       "    </tr>\n",
       "    <tr>\n",
       "      <th>4</th>\n",
       "      <td>1.1</td>\n",
       "      <td>93.994</td>\n",
       "      <td>4.857</td>\n",
       "      <td>5191.0</td>\n",
       "    </tr>\n",
       "  </tbody>\n",
       "</table>\n",
       "</div>"
      ],
      "text/plain": [
       "   emp_var_rate  cons_price_idx  euribor_three_months  number_employed\n",
       "0           1.1          93.994                 4.857           5191.0\n",
       "1           1.1          93.994                 4.857           5191.0\n",
       "2           1.1          93.994                 4.857           5191.0\n",
       "3           1.1          93.994                 4.857           5191.0\n",
       "4           1.1          93.994                 4.857           5191.0"
      ]
     },
     "execution_count": 524,
     "metadata": {},
     "output_type": "execute_result"
    }
   ],
   "source": [
    "economics.head()"
   ]
  },
  {
   "cell_type": "code",
   "execution_count": 525,
   "id": "a6b92cae-f2da-445f-9965-dee3b1ef3fd6",
   "metadata": {
    "executionCancelledAt": null,
    "executionTime": 48,
    "lastExecutedAt": 1686091583374,
    "lastScheduledRunId": null,
    "lastSuccessfullyExecutedCode": "economics.insert(0, \"client_id\", client.id)"
   },
   "outputs": [],
   "source": [
    "economics.insert(0, \"client_id\", client.id)"
   ]
  },
  {
   "cell_type": "code",
   "execution_count": 526,
   "id": "f19a2dbd-f699-42a6-8425-17578ce09270",
   "metadata": {
    "executionCancelledAt": null,
    "executionTime": 47,
    "lastExecutedAt": 1686091583422,
    "lastScheduledRunId": null,
    "lastSuccessfullyExecutedCode": "economics.head()"
   },
   "outputs": [
    {
     "data": {
      "application/com.datacamp.data-table.v1+json": {
       "table": {
        "data": [
         {
          "client_id": 0,
          "cons_price_idx": 93.994,
          "emp_var_rate": 1.1,
          "euribor_three_months": 4.857,
          "index": 0,
          "number_employed": 5191
         },
         {
          "client_id": 1,
          "cons_price_idx": 93.994,
          "emp_var_rate": 1.1,
          "euribor_three_months": 4.857,
          "index": 1,
          "number_employed": 5191
         },
         {
          "client_id": 2,
          "cons_price_idx": 93.994,
          "emp_var_rate": 1.1,
          "euribor_three_months": 4.857,
          "index": 2,
          "number_employed": 5191
         },
         {
          "client_id": 3,
          "cons_price_idx": 93.994,
          "emp_var_rate": 1.1,
          "euribor_three_months": 4.857,
          "index": 3,
          "number_employed": 5191
         },
         {
          "client_id": 4,
          "cons_price_idx": 93.994,
          "emp_var_rate": 1.1,
          "euribor_three_months": 4.857,
          "index": 4,
          "number_employed": 5191
         }
        ],
        "schema": {
         "fields": [
          {
           "name": "index",
           "type": "integer"
          },
          {
           "name": "client_id",
           "type": "integer"
          },
          {
           "name": "emp_var_rate",
           "type": "number"
          },
          {
           "name": "cons_price_idx",
           "type": "number"
          },
          {
           "name": "euribor_three_months",
           "type": "number"
          },
          {
           "name": "number_employed",
           "type": "number"
          }
         ],
         "pandas_version": "1.4.0",
         "primaryKey": [
          "index"
         ]
        }
       },
       "total_rows": 5,
       "truncation_type": null
      },
      "text/html": [
       "<div>\n",
       "<style scoped>\n",
       "    .dataframe tbody tr th:only-of-type {\n",
       "        vertical-align: middle;\n",
       "    }\n",
       "\n",
       "    .dataframe tbody tr th {\n",
       "        vertical-align: top;\n",
       "    }\n",
       "\n",
       "    .dataframe thead th {\n",
       "        text-align: right;\n",
       "    }\n",
       "</style>\n",
       "<table border=\"1\" class=\"dataframe\">\n",
       "  <thead>\n",
       "    <tr style=\"text-align: right;\">\n",
       "      <th></th>\n",
       "      <th>client_id</th>\n",
       "      <th>emp_var_rate</th>\n",
       "      <th>cons_price_idx</th>\n",
       "      <th>euribor_three_months</th>\n",
       "      <th>number_employed</th>\n",
       "    </tr>\n",
       "  </thead>\n",
       "  <tbody>\n",
       "    <tr>\n",
       "      <th>0</th>\n",
       "      <td>0</td>\n",
       "      <td>1.1</td>\n",
       "      <td>93.994</td>\n",
       "      <td>4.857</td>\n",
       "      <td>5191.0</td>\n",
       "    </tr>\n",
       "    <tr>\n",
       "      <th>1</th>\n",
       "      <td>1</td>\n",
       "      <td>1.1</td>\n",
       "      <td>93.994</td>\n",
       "      <td>4.857</td>\n",
       "      <td>5191.0</td>\n",
       "    </tr>\n",
       "    <tr>\n",
       "      <th>2</th>\n",
       "      <td>2</td>\n",
       "      <td>1.1</td>\n",
       "      <td>93.994</td>\n",
       "      <td>4.857</td>\n",
       "      <td>5191.0</td>\n",
       "    </tr>\n",
       "    <tr>\n",
       "      <th>3</th>\n",
       "      <td>3</td>\n",
       "      <td>1.1</td>\n",
       "      <td>93.994</td>\n",
       "      <td>4.857</td>\n",
       "      <td>5191.0</td>\n",
       "    </tr>\n",
       "    <tr>\n",
       "      <th>4</th>\n",
       "      <td>4</td>\n",
       "      <td>1.1</td>\n",
       "      <td>93.994</td>\n",
       "      <td>4.857</td>\n",
       "      <td>5191.0</td>\n",
       "    </tr>\n",
       "  </tbody>\n",
       "</table>\n",
       "</div>"
      ],
      "text/plain": [
       "   client_id  emp_var_rate  ...  euribor_three_months  number_employed\n",
       "0          0           1.1  ...                 4.857           5191.0\n",
       "1          1           1.1  ...                 4.857           5191.0\n",
       "2          2           1.1  ...                 4.857           5191.0\n",
       "3          3           1.1  ...                 4.857           5191.0\n",
       "4          4           1.1  ...                 4.857           5191.0\n",
       "\n",
       "[5 rows x 5 columns]"
      ]
     },
     "execution_count": 526,
     "metadata": {},
     "output_type": "execute_result"
    }
   ],
   "source": [
    "economics.head()"
   ]
  },
  {
   "cell_type": "code",
   "execution_count": 527,
   "id": "3672cd98-b721-491a-a696-05a158384461",
   "metadata": {
    "executionCancelledAt": null,
    "executionTime": 157,
    "lastExecutedAt": 1686091583579,
    "lastScheduledRunId": null,
    "lastSuccessfullyExecutedCode": "# saving economics dataframe to csv\neconomics.to_csv(\"economics.csv\", index=False)"
   },
   "outputs": [],
   "source": [
    "# saving economics dataframe to csv\n",
    "economics.to_csv(\"economics.csv\", index=False)"
   ]
  },
  {
   "cell_type": "code",
   "execution_count": 528,
   "id": "e510b5ef-e35c-4cf6-a6c2-3bc49f1b689b",
   "metadata": {
    "executionCancelledAt": null,
    "executionTime": 161,
    "lastExecutedAt": 1686091583741,
    "lastScheduledRunId": null,
    "lastSuccessfullyExecutedCode": "# saving client dataframe to csv\nclient.to_csv(\"client.csv\", index=False)"
   },
   "outputs": [],
   "source": [
    "# saving client dataframe to csv\n",
    "client.to_csv(\"client.csv\", index=False)"
   ]
  },
  {
   "cell_type": "code",
   "execution_count": 529,
   "id": "5d0e9594-7263-4edc-bb4a-3a22253e823c",
   "metadata": {
    "executionCancelledAt": null,
    "executionTime": 152,
    "lastExecutedAt": 1686091583894,
    "lastScheduledRunId": null,
    "lastSuccessfullyExecutedCode": "# saving campaign dataframe to csv\nclient.to_csv(\"campaign.csv\", index=False)"
   },
   "outputs": [],
   "source": [
    "# saving campaign dataframe to csv\n",
    "client.to_csv(\"campaign.csv\", index=False)"
   ]
  },
  {
   "cell_type": "markdown",
   "id": "912a41fb-79f7-47fe-a6f1-18be95dcb637",
   "metadata": {},
   "source": [
    "### Designing The Database"
   ]
  },
  {
   "cell_type": "code",
   "execution_count": 530,
   "id": "ea0e73dc-af28-44fd-8b70-51da5d6458c1",
   "metadata": {
    "executionCancelledAt": null,
    "executionTime": 47,
    "lastExecutedAt": 1686091583942,
    "lastScheduledRunId": null,
    "lastSuccessfullyExecutedCode": "# creating the client_table\nclient_table= \"\"\"\nCREATE TABLE client (\n\tid\tSERIAL\tPRIMARY KEY,\n\tage INTEGER,\n\tjob TEXT,\n\tmarital\tTEXT,\n\teducation TEXT,\n\tcredit_default BOOLEAN,\n\thousing BOOLEAN,\n\tloan BOOLEAN\t\n);\n\n\\copy client FROM 'client.csv' DELIMITER ',' CSV HEADER\n\"\"\""
   },
   "outputs": [],
   "source": [
    "# creating the client_table\n",
    "client_table= \"\"\"\n",
    "CREATE TABLE client (\n",
    "\tid\tSERIAL\tPRIMARY KEY,\n",
    "\tage INTEGER,\n",
    "\tjob TEXT,\n",
    "\tmarital\tTEXT,\n",
    "\teducation TEXT,\n",
    "\tcredit_default BOOLEAN,\n",
    "\thousing BOOLEAN,\n",
    "\tloan BOOLEAN\t\n",
    ");\n",
    "\n",
    "\\copy client FROM 'client.csv' DELIMITER ',' CSV HEADER\n",
    "\"\"\""
   ]
  },
  {
   "cell_type": "code",
   "execution_count": 531,
   "id": "e9524f72-edea-4540-92dd-a1628c8b8eeb",
   "metadata": {
    "executionCancelledAt": null,
    "executionTime": 47,
    "lastExecutedAt": 1686091583990,
    "lastScheduledRunId": null,
    "lastSuccessfullyExecutedCode": "# creating the campaign_table\ncampaign_table= \"\"\"\nCREATE TABLE campaign (\n\tcampaign_id\tSERIAL\tPRIMARY KEY,\n    client_id SERIAL references client (id),\n\tnumber_contacts INTEGER,\n    contact_duration INTEGER,\n    pdays INTEGER,\n    previous_campaign_contacts INTEGER,\n\tprevious_outcome BOOLEAN,\n\tcampaign_outcome BOOLEAN,\n\tlast_contact_date DATE\t\n);\n\n\\copy campaign FROM 'campaign.csv' DELIMITER ',' CSV HEADER\n\"\"\"\n\n"
   },
   "outputs": [],
   "source": [
    "# creating the campaign_table\n",
    "campaign_table= \"\"\"\n",
    "CREATE TABLE campaign (\n",
    "\tcampaign_id\tSERIAL\tPRIMARY KEY,\n",
    "    client_id SERIAL references client (id),\n",
    "\tnumber_contacts INTEGER,\n",
    "    contact_duration INTEGER,\n",
    "    pdays INTEGER,\n",
    "    previous_campaign_contacts INTEGER,\n",
    "\tprevious_outcome BOOLEAN,\n",
    "\tcampaign_outcome BOOLEAN,\n",
    "\tlast_contact_date DATE\t\n",
    ");\n",
    "\n",
    "\\copy campaign FROM 'campaign.csv' DELIMITER ',' CSV HEADER\n",
    "\"\"\"\n",
    "\n"
   ]
  },
  {
   "cell_type": "code",
   "execution_count": 532,
   "id": "6c50d394-f856-4d75-bb3b-8cafa87416a7",
   "metadata": {
    "executionCancelledAt": null,
    "executionTime": 48,
    "lastExecutedAt": 1686091584038,
    "lastScheduledRunId": null,
    "lastSuccessfullyExecutedCode": "# creating the economics_table\neconomics_table= \"\"\"\nCREATE TABLE economics (\n    client_id SERIAL references client (id),\n\temp_var_rate FLOAT,\n    cons_price_idx FLOAT,\n    euribor_three_months FLOAT,\n    number_employed FLOAT\n);\n\n\\copy economics FROM 'economics.csv' DELIMITER ',' CSV HEADER\n\"\"\""
   },
   "outputs": [],
   "source": [
    "# creating the economics_table\n",
    "economics_table= \"\"\"\n",
    "CREATE TABLE economics (\n",
    "    client_id SERIAL references client (id),\n",
    "\temp_var_rate FLOAT,\n",
    "    cons_price_idx FLOAT,\n",
    "    euribor_three_months FLOAT,\n",
    "    number_employed FLOAT\n",
    ");\n",
    "\n",
    "\\copy economics FROM 'economics.csv' DELIMITER ',' CSV HEADER\n",
    "\"\"\""
   ]
  }
 ],
 "metadata": {
  "editor": "DataCamp Workspace",
  "kernelspec": {
   "display_name": "Python 3 (ipykernel)",
   "language": "python",
   "name": "python3"
  },
  "language_info": {
   "codemirror_mode": {
    "name": "ipython",
    "version": 3
   },
   "file_extension": ".py",
   "mimetype": "text/x-python",
   "name": "python",
   "nbconvert_exporter": "python",
   "pygments_lexer": "ipython3",
   "version": "3.9.13"
  }
 },
 "nbformat": 4,
 "nbformat_minor": 5
}
